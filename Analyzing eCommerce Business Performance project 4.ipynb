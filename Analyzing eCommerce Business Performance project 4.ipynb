{
 "cells": [
  {
   "cell_type": "code",
   "execution_count": 1,
   "id": "cc0d49d6",
   "metadata": {},
   "outputs": [],
   "source": [
    "import psycopg2\n",
    "import pandas as pd\n",
    "import matplotlib.pyplot as plt\n",
    "import seaborn as sns\n",
    "import numpy as np"
   ]
  },
  {
   "cell_type": "code",
   "execution_count": 2,
   "id": "ccbe5720",
   "metadata": {},
   "outputs": [],
   "source": [
    "connection = psycopg2.connect('user=postgres', password='123457',\n",
    "                              host='127.0.0.1',port='5432', database='Analyzing eCommerce Business Performance with SQL')\n",
    "cur = connection.cursor()"
   ]
  },
  {
   "cell_type": "code",
   "execution_count": 3,
   "id": "ee154f04",
   "metadata": {},
   "outputs": [
    {
     "name": "stdout",
     "output_type": "stream",
     "text": [
      "You are connected to -  ('PostgreSQL 15.1, compiled by Visual C++ build 1914, 64-bit',)\n"
     ]
    }
   ],
   "source": [
    "cur.execute('Select Version();')\n",
    "record = cur.fetchone()\n",
    "print('You are connected to - ',record)"
   ]
  },
  {
   "cell_type": "code",
   "execution_count": 4,
   "id": "dc534d01",
   "metadata": {},
   "outputs": [
    {
     "name": "stdout",
     "output_type": "stream",
     "text": [
      "('customers_dataset',)\n",
      "('geolocation_dataset',)\n",
      "('order_items_dataset',)\n",
      "('order_payments_dataset',)\n",
      "('order_reviews_dataset',)\n",
      "('orders_dataset',)\n",
      "('product_dataset',)\n",
      "('sellers_dataset',)\n",
      "('company_revenues',)\n",
      "('cancel_peryear',)\n",
      "('the_best_kategori',)\n",
      "('the_bad_categori',)\n"
     ]
    }
   ],
   "source": [
    "cur.execute(\"\"\"SELECT table_name FROM information_schema.tables WHERE table_schema = 'public'\"\"\")\n",
    "for table in cur.fetchall(): # cur.fetchall berfungsi untuk menampilkan seluruh tabel pada database\n",
    "    print(table)"
   ]
  },
  {
   "cell_type": "code",
   "execution_count": 5,
   "id": "ab00d5f8",
   "metadata": {
    "scrolled": true
   },
   "outputs": [
    {
     "data": {
      "text/html": [
       "<div>\n",
       "<style scoped>\n",
       "    .dataframe tbody tr th:only-of-type {\n",
       "        vertical-align: middle;\n",
       "    }\n",
       "\n",
       "    .dataframe tbody tr th {\n",
       "        vertical-align: top;\n",
       "    }\n",
       "\n",
       "    .dataframe thead th {\n",
       "        text-align: right;\n",
       "    }\n",
       "</style>\n",
       "<table border=\"1\" class=\"dataframe\">\n",
       "  <thead>\n",
       "    <tr style=\"text-align: right;\">\n",
       "      <th></th>\n",
       "      <th>payment_type</th>\n",
       "      <th>total_2016</th>\n",
       "      <th>total_2017</th>\n",
       "      <th>total_2018</th>\n",
       "      <th>total</th>\n",
       "    </tr>\n",
       "  </thead>\n",
       "  <tbody>\n",
       "    <tr>\n",
       "      <th>0</th>\n",
       "      <td>boleto</td>\n",
       "      <td>63</td>\n",
       "      <td>9508</td>\n",
       "      <td>10213</td>\n",
       "      <td>19784</td>\n",
       "    </tr>\n",
       "    <tr>\n",
       "      <th>1</th>\n",
       "      <td>credit_card</td>\n",
       "      <td>258</td>\n",
       "      <td>34568</td>\n",
       "      <td>41969</td>\n",
       "      <td>76795</td>\n",
       "    </tr>\n",
       "    <tr>\n",
       "      <th>2</th>\n",
       "      <td>debit_card</td>\n",
       "      <td>2</td>\n",
       "      <td>422</td>\n",
       "      <td>1105</td>\n",
       "      <td>1529</td>\n",
       "    </tr>\n",
       "    <tr>\n",
       "      <th>3</th>\n",
       "      <td>not_defined</td>\n",
       "      <td>0</td>\n",
       "      <td>0</td>\n",
       "      <td>3</td>\n",
       "      <td>3</td>\n",
       "    </tr>\n",
       "    <tr>\n",
       "      <th>4</th>\n",
       "      <td>voucher</td>\n",
       "      <td>23</td>\n",
       "      <td>3027</td>\n",
       "      <td>2725</td>\n",
       "      <td>5775</td>\n",
       "    </tr>\n",
       "  </tbody>\n",
       "</table>\n",
       "</div>"
      ],
      "text/plain": [
       "  payment_type total_2016 total_2017 total_2018  total\n",
       "0       boleto         63       9508      10213  19784\n",
       "1  credit_card        258      34568      41969  76795\n",
       "2   debit_card          2        422       1105   1529\n",
       "3  not_defined          0          0          3      3\n",
       "4      voucher         23       3027       2725   5775"
      ]
     },
     "execution_count": 5,
     "metadata": {},
     "output_type": "execute_result"
    }
   ],
   "source": [
    "cur = connection.cursor()\n",
    "cur.execute(\"\"\"select payment_type, sum (case when Year = 2016 then jumlah else 0 end) as total_2016, sum (case when Year = 2017 then jumlah else 0 end) as total_2017, sum (case when Year = 2018 then jumlah else 0 end) as total_2018, sum (jumlah) as Total from ( select extract (year from od.order_purchase_timestamp) as Year, od.order_status, opd.payment_type,count(*) as jumlah from orders_dataset od join order_payments_dataset opd on od.order_id = opd.order_id group by 1,2,3 order by 4 desc) tmp group by 1 order by 1 \"\"\")\n",
    "\n",
    "hasil = cur.fetchall()\n",
    "\n",
    "# Mendapatkan daftar nama kolom dari objek kursor\n",
    "kolom = [desc[0] for desc in cur.description]\n",
    "\n",
    "df= pd.DataFrame(hasil, columns=kolom)\n",
    "df.head()\n"
   ]
  },
  {
   "cell_type": "code",
   "execution_count": 24,
   "id": "e0db744b",
   "metadata": {},
   "outputs": [
    {
     "data": {
      "image/png": "[encoded data removed]",
      "text/plain": [
       "<Figure size 640x480 with 1 Axes>"
      ]
     },
     "metadata": {},
     "output_type": "display_data"
    }
   ],
   "source": [
    "width =0.2\n",
    "x =range(len(df['payment_type']))\n",
    "\n",
    "plt.bar(x, df['total_2016'], width=width, label ='2016')\n",
    "plt.bar([i + width for i in x], df['total_2017'], width=width, label= '2017')\n",
    "plt.bar([i + 2*width for i in x], df['total_2018'], width=width, label='2018')\n",
    "\n",
    "plt.xlabel('Payment Type')\n",
    "plt.ylabel('Total')\n",
    "plt.title('Payment Type Distribution')\n",
    "\n",
    "plt.xticks([i + width for i in x], df['payment_type'])\n",
    "plt.legend\n",
    "plt.show()\n",
    "\n",
    "\n"
   ]
  }
 ],
 "metadata": {
  "kernelspec": {
   "display_name": "Python 3 (ipykernel)",
   "language": "python",
   "name": "python3"
  },
  "language_info": {
   "codemirror_mode": {
    "name": "ipython",
    "version": 3
   },
   "file_extension": ".py",
   "mimetype": "text/x-python",
   "name": "python",
   "nbconvert_exporter": "python",
   "pygments_lexer": "ipython3",
   "version": "3.9.13"
  }
 },
 "nbformat": 4,
 "nbformat_minor": 5
}
